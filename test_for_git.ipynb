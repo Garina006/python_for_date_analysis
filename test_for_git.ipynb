{
 "cells": [
  {
   "cell_type": "code",
   "execution_count": 12,
   "id": "de6c81d3-84d2-46e9-8d75-d7019077f01f",
   "metadata": {},
   "outputs": [
    {
     "name": "stdout",
     "output_type": "stream",
     "text": [
      "43\n",
      "43\n"
     ]
    }
   ],
   "source": [
    "def my_sum(*args):\n",
    "    summa = 0\n",
    "    for elem in args:\n",
    "        if isinstance(elem, int): \n",
    "            summa += elem\n",
    "    return summa\n",
    "\n",
    "print(my_sum(10, 2, -5, 66, -30))\n",
    "print(my_sum(10, 2, -5, 66, -30, 0.5))"
   ]
  }
 ],
 "metadata": {
  "kernelspec": {
   "display_name": "Python 3 (ipykernel)",
   "language": "python",
   "name": "python3"
  },
  "language_info": {
   "codemirror_mode": {
    "name": "ipython",
    "version": 3
   },
   "file_extension": ".py",
   "mimetype": "text/x-python",
   "name": "python",
   "nbconvert_exporter": "python",
   "pygments_lexer": "ipython3",
   "version": "3.10.12"
  }
 },
 "nbformat": 4,
 "nbformat_minor": 5
}

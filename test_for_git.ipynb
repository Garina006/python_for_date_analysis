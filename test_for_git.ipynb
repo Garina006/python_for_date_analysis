{
 "cells": [
  {
   "cell_type": "code",
   "execution_count": 12,
   "id": "de6c81d3-84d2-46e9-8d75-d7019077f01f",
   "metadata": {},
   "outputs": [
    {
     "name": "stdout",
     "output_type": "stream",
     "text": [
      "43\n",
      "43\n"
     ]
    }
   ],
   "source": [
    "def my_sum(*args):\n",
    "    summa = 0\n",
    "    for elem in args:\n",
    "        if isinstance(elem, int): \n",
    "            summa += elem\n",
    "    return summa\n",
    "\n",
    "print(my_sum(10, 2, -5, 66, -30))\n",
    "print(my_sum(10, 2, -5, 66, -30, 0.5))"
   ]
  },
  {
   "cell_type": "code",
   "execution_count": 20,
   "id": "2e377c6c-df09-46bc-b218-7db0fcbd76d3",
   "metadata": {},
   "outputs": [
    {
     "name": "stdout",
     "output_type": "stream",
     "text": [
      "Cat Lucas, maincoon breed, peach color, age5\n"
     ]
    }
   ],
   "source": [
    "CATS_SEX = ['mail', 'femail']\n",
    "\n",
    "class Cat:\n",
    "    \n",
    "\n",
    "    def __init__(self, name, breed, color, age, sex):\n",
    "        if not sex.lower() in CATS_SEX:\n",
    "            raise TypeError('Error')\n",
    "        else:\n",
    "            self.name = name\n",
    "            self.breed = breed\n",
    "            self.color = color\n",
    "            self.age = age\n",
    "            self.sex = sex\n",
    "        \n",
    "\n",
    "\n",
    "    def __str__(self):\n",
    "        return f\"Cat {self.name}, {self.breed} breed, {self.color} color, age{self.age}\"\n",
    "       \n",
    "\n",
    "cat_1 = Cat('Lucas', 'maincoon', 'peach', 5, 'Mail')\n",
    "print(cat_1)"
   ]
  }
 ],
 "metadata": {
  "kernelspec": {
   "display_name": "Python 3 (ipykernel)",
   "language": "python",
   "name": "python3"
  },
  "language_info": {
   "codemirror_mode": {
    "name": "ipython",
    "version": 3
   },
   "file_extension": ".py",
   "mimetype": "text/x-python",
   "name": "python",
   "nbconvert_exporter": "python",
   "pygments_lexer": "ipython3",
   "version": "3.10.12"
  }
 },
 "nbformat": 4,
 "nbformat_minor": 5
}
